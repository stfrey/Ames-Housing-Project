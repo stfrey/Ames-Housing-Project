{
 "cells": [
  {
   "cell_type": "code",
   "execution_count": 1,
   "metadata": {},
   "outputs": [],
   "source": [
    "import pandas as pd\n",
    "import matplotlib.pyplot as plt\n",
    "import seaborn as sns\n",
    "import numpy as np\n",
    "\n",
    "from sklearn.linear_model import LinearRegression, Lasso, LassoCV, Ridge, RidgeCV\n",
    "from sklearn.model_selection import train_test_split, cross_val_score, GridSearchCV\n",
    "from sklearn.metrics import mean_squared_error, mean_absolute_error, r2_score\n",
    "from sklearn.preprocessing import StandardScaler, PolynomialFeatures\n",
    "from sklearn.pipeline import Pipeline\n",
    "from sklearn.feature_selection import SelectKBest, VarianceThreshold, f_regression\n",
    "from sklearn.linear_model import ElasticNet\n",
    "\n",
    "pd.options.display.max_columns = 82\n",
    "pd.options.display.max_rows = 1000"
   ]
  },
  {
   "cell_type": "code",
   "execution_count": null,
   "metadata": {},
   "outputs": [],
   "source": [
    "train = pd.read_csv('./Datasets/train_clean.csv')\n",
    "train.head()"
   ]
  },
  {
   "cell_type": "code",
   "execution_count": null,
   "metadata": {},
   "outputs": [],
   "source": [
    "test = pd.read_csv('./Datasets/train_clean.csv')\n",
    "test.head()"
   ]
  },
  {
   "cell_type": "code",
   "execution_count": null,
   "metadata": {},
   "outputs": [],
   "source": [
    "# Setting Features\n",
    "neighborhoods = [col for col in train.columns if col.startswith('Neighborhood')]\n",
    "X = train[[neighborhoods, 'asdf', 'asdf', 'asdf', 'adf', 'asdf']]\n",
    "y = train['SalePrice_log']"
   ]
  },
  {
   "cell_type": "code",
   "execution_count": null,
   "metadata": {},
   "outputs": [],
   "source": [
    "# Train-test-split with a random state\n",
    "X_train, X_val, y_train, y_val = train_test_split(X, y, random_state = 42)"
   ]
  },
  {
   "cell_type": "code",
   "execution_count": null,
   "metadata": {},
   "outputs": [],
   "source": [
    "poly = PolynomialFeatures()\n",
    "X_poly = poly.fit_transform(X)"
   ]
  },
  {
   "cell_type": "code",
   "execution_count": null,
   "metadata": {},
   "outputs": [],
   "source": [
    "pipe = Pipeline(\n",
    "    [\n",
    "            ('var_thresh', VarianceThreshold(0.05)),\n",
    "            ('ss', StandardScaler()),\n",
    "            ('kbest', SelectKBest(f_regression, k= 'all')),\n",
    "            ('ridge', Ridge())\n",
    "    ]\n",
    ")\n",
    "pipe_params = {\n",
    "    'var_thresh__threshold': [0, 0.05, 0.1, 0.25],\n",
    "    'ridge__alpha': np.logspace(0, 3, 100)\n",
    "}\n",
    "gs = GridSearchCV(pipe, pipe_params, cv = 5, verbose = 1)\n",
    "gs.fit(X_train_poly, y_train);"
   ]
  },
  {
   "cell_type": "code",
   "execution_count": null,
   "metadata": {},
   "outputs": [],
   "source": [
    "# Submission\n",
    "X_test = train[[neighborhoods, 'asdf', 'asdf', 'asdf', 'adf', 'asdf']]\n",
    "X_poly_poly = poly.fit_transform(X)\n",
    "\n",
    "test_data['SalePrice'] = np.exp(gs.predict(X_test_poly))\n",
    "Submission = test_data[['Id','SalePrice']]\n",
    "\n",
    "Submission.to_csv('./datasets/DeepestDeepDish_3.csv', index = False)"
   ]
  }
 ],
 "metadata": {
  "kernelspec": {
   "display_name": "Python 3",
   "language": "python",
   "name": "python3"
  },
  "language_info": {
   "codemirror_mode": {
    "name": "ipython",
    "version": 3
   },
   "file_extension": ".py",
   "mimetype": "text/x-python",
   "name": "python",
   "nbconvert_exporter": "python",
   "pygments_lexer": "ipython3",
   "version": "3.7.4"
  }
 },
 "nbformat": 4,
 "nbformat_minor": 2
}
